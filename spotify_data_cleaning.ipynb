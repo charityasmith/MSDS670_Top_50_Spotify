{
 "cells": [
  {
   "cell_type": "code",
   "execution_count": 1,
   "id": "39d0e1ea-c24a-4854-a4d8-0047b6cb7d91",
   "metadata": {},
   "outputs": [],
   "source": [
    "# Import necessary libraries\n",
    "import pandas as pd\n",
    "import numpy as np"
   ]
  },
  {
   "cell_type": "code",
   "execution_count": 3,
   "id": "8c4dff72-2f48-4ec2-98c4-bf0227d7f6e5",
   "metadata": {},
   "outputs": [],
   "source": [
    "# Load the dataset\n",
    "file_path = \"data/Top_spotify_songs.csv\"\n",
    "df = pd.read_csv(file_path)"
   ]
  },
  {
   "cell_type": "code",
   "execution_count": 4,
   "id": "3b6af0e8-fc14-4b72-a702-51e7df1957cb",
   "metadata": {},
   "outputs": [
    {
     "name": "stdout",
     "output_type": "stream",
     "text": [
      "Dataset Info:\n",
      "<class 'pandas.core.frame.DataFrame'>\n",
      "RangeIndex: 1728382 entries, 0 to 1728381\n",
      "Data columns (total 25 columns):\n",
      " #   Column              Dtype  \n",
      "---  ------              -----  \n",
      " 0   spotify_id          object \n",
      " 1   name                object \n",
      " 2   artists             object \n",
      " 3   daily_rank          int64  \n",
      " 4   daily_movement      int64  \n",
      " 5   weekly_movement     int64  \n",
      " 6   country             object \n",
      " 7   snapshot_date       object \n",
      " 8   popularity          int64  \n",
      " 9   is_explicit         bool   \n",
      " 10  duration_ms         int64  \n",
      " 11  album_name          object \n",
      " 12  album_release_date  object \n",
      " 13  danceability        float64\n",
      " 14  energy              float64\n",
      " 15  key                 int64  \n",
      " 16  loudness            float64\n",
      " 17  mode                int64  \n",
      " 18  speechiness         float64\n",
      " 19  acousticness        float64\n",
      " 20  instrumentalness    float64\n",
      " 21  liveness            float64\n",
      " 22  valence             float64\n",
      " 23  tempo               float64\n",
      " 24  time_signature      int64  \n",
      "dtypes: bool(1), float64(9), int64(8), object(7)\n",
      "memory usage: 318.1+ MB\n"
     ]
    }
   ],
   "source": [
    "# Display basic info\n",
    "print(\"Dataset Info:\")\n",
    "df.info()"
   ]
  },
  {
   "cell_type": "code",
   "execution_count": 5,
   "id": "03f07ce2-335a-4fc7-9fcc-9b4a68074f60",
   "metadata": {},
   "outputs": [
    {
     "name": "stdout",
     "output_type": "stream",
     "text": [
      "\n",
      "First 5 rows:\n",
      "               spotify_id                name                artists  \\\n",
      "0  2plbrEY59IikOBgBGLjaoe    Die With A Smile  Lady Gaga, Bruno Mars   \n",
      "1  2CGNAOSuO1MEFCbBRgUzjd   luther (with sza)    Kendrick Lamar, SZA   \n",
      "2  6AI3ezQ4o3HUoP6Dhudph3         Not Like Us         Kendrick Lamar   \n",
      "3  4wJ5Qq0jBN4ajy7ouZIV1c                APT.       ROSÉ, Bruno Mars   \n",
      "4  6dOtVTDdiauQNBQEDOtlAB  BIRDS OF A FEATHER          Billie Eilish   \n",
      "\n",
      "   daily_rank  daily_movement  weekly_movement country snapshot_date  \\\n",
      "0           1               1                0     NaN    2025-02-17   \n",
      "1           2               1                4     NaN    2025-02-17   \n",
      "2           3              -2                8     NaN    2025-02-17   \n",
      "3           4               0               -2     NaN    2025-02-17   \n",
      "4           5               1               -2     NaN    2025-02-17   \n",
      "\n",
      "   popularity  is_explicit  ...  key loudness mode  speechiness  acousticness  \\\n",
      "0          98        False  ...    6   -7.777    0       0.0304        0.3080   \n",
      "1          90        False  ...    2   -7.546    1       0.1250        0.2510   \n",
      "2          92         True  ...    1   -7.001    1       0.0776        0.0107   \n",
      "3          89        False  ...    0   -4.477    0       0.2600        0.0283   \n",
      "4          96        False  ...    2  -10.171    1       0.0358        0.2000   \n",
      "\n",
      "   instrumentalness  liveness  valence    tempo  time_signature  \n",
      "0            0.0000     0.122    0.535  157.969               3  \n",
      "1            0.0000     0.248    0.576  138.008               4  \n",
      "2            0.0000     0.141    0.214  101.061               4  \n",
      "3            0.0000     0.355    0.939  149.027               4  \n",
      "4            0.0608     0.117    0.438  104.978               4  \n",
      "\n",
      "[5 rows x 25 columns]\n"
     ]
    }
   ],
   "source": [
    "# Display the first few rows\n",
    "print(\"\\nFirst 5 rows:\")\n",
    "print(df.head())"
   ]
  },
  {
   "cell_type": "code",
   "execution_count": 6,
   "id": "835644b2-ad98-429f-b335-f2b83bd462b2",
   "metadata": {},
   "outputs": [
    {
     "name": "stdout",
     "output_type": "stream",
     "text": [
      "\n",
      "Missing Values:\n",
      "spotify_id                0\n",
      "name                     30\n",
      "artists                  29\n",
      "daily_rank                0\n",
      "daily_movement            0\n",
      "weekly_movement           0\n",
      "country               23607\n",
      "snapshot_date             0\n",
      "popularity                0\n",
      "is_explicit               0\n",
      "duration_ms               0\n",
      "album_name              821\n",
      "album_release_date      658\n",
      "danceability              0\n",
      "energy                    0\n",
      "key                       0\n",
      "loudness                  0\n",
      "mode                      0\n",
      "speechiness               0\n",
      "acousticness              0\n",
      "instrumentalness          0\n",
      "liveness                  0\n",
      "valence                   0\n",
      "tempo                     0\n",
      "time_signature            0\n",
      "dtype: int64\n"
     ]
    }
   ],
   "source": [
    "# Check for missing values\n",
    "print(\"\\nMissing Values:\")\n",
    "print(df.isnull().sum())"
   ]
  },
  {
   "cell_type": "code",
   "execution_count": 7,
   "id": "f3dba3d1-c0f5-4a2f-9cdf-5b130fa2c24f",
   "metadata": {},
   "outputs": [
    {
     "name": "stderr",
     "output_type": "stream",
     "text": [
      "/var/folders/nc/ynm8w4053qg59qhr2zcdcpyh0000gn/T/ipykernel_93581/2570041054.py:2: FutureWarning: A value is trying to be set on a copy of a DataFrame or Series through chained assignment using an inplace method.\n",
      "The behavior will change in pandas 3.0. This inplace method will never work because the intermediate object on which we are setting values always behaves as a copy.\n",
      "\n",
      "For example, when doing 'df[col].method(value, inplace=True)', try using 'df.method({col: value}, inplace=True)' or df[col] = df[col].method(value) instead, to perform the operation inplace on the original object.\n",
      "\n",
      "\n",
      "  df[\"name\"].fillna(\"Unknown Song\", inplace=True)\n",
      "/var/folders/nc/ynm8w4053qg59qhr2zcdcpyh0000gn/T/ipykernel_93581/2570041054.py:3: FutureWarning: A value is trying to be set on a copy of a DataFrame or Series through chained assignment using an inplace method.\n",
      "The behavior will change in pandas 3.0. This inplace method will never work because the intermediate object on which we are setting values always behaves as a copy.\n",
      "\n",
      "For example, when doing 'df[col].method(value, inplace=True)', try using 'df.method({col: value}, inplace=True)' or df[col] = df[col].method(value) instead, to perform the operation inplace on the original object.\n",
      "\n",
      "\n",
      "  df[\"artists\"].fillna(\"Unknown Artist\", inplace=True)\n",
      "/var/folders/nc/ynm8w4053qg59qhr2zcdcpyh0000gn/T/ipykernel_93581/2570041054.py:4: FutureWarning: A value is trying to be set on a copy of a DataFrame or Series through chained assignment using an inplace method.\n",
      "The behavior will change in pandas 3.0. This inplace method will never work because the intermediate object on which we are setting values always behaves as a copy.\n",
      "\n",
      "For example, when doing 'df[col].method(value, inplace=True)', try using 'df.method({col: value}, inplace=True)' or df[col] = df[col].method(value) instead, to perform the operation inplace on the original object.\n",
      "\n",
      "\n",
      "  df[\"country\"].fillna(\"Unknown Country\", inplace=True)\n",
      "/var/folders/nc/ynm8w4053qg59qhr2zcdcpyh0000gn/T/ipykernel_93581/2570041054.py:5: FutureWarning: A value is trying to be set on a copy of a DataFrame or Series through chained assignment using an inplace method.\n",
      "The behavior will change in pandas 3.0. This inplace method will never work because the intermediate object on which we are setting values always behaves as a copy.\n",
      "\n",
      "For example, when doing 'df[col].method(value, inplace=True)', try using 'df.method({col: value}, inplace=True)' or df[col] = df[col].method(value) instead, to perform the operation inplace on the original object.\n",
      "\n",
      "\n",
      "  df[\"album_name\"].fillna(\"Unknown Album\", inplace=True)\n",
      "/var/folders/nc/ynm8w4053qg59qhr2zcdcpyh0000gn/T/ipykernel_93581/2570041054.py:6: FutureWarning: A value is trying to be set on a copy of a DataFrame or Series through chained assignment using an inplace method.\n",
      "The behavior will change in pandas 3.0. This inplace method will never work because the intermediate object on which we are setting values always behaves as a copy.\n",
      "\n",
      "For example, when doing 'df[col].method(value, inplace=True)', try using 'df.method({col: value}, inplace=True)' or df[col] = df[col].method(value) instead, to perform the operation inplace on the original object.\n",
      "\n",
      "\n",
      "  df[\"album_release_date\"].fillna(\"Unknown Date\", inplace=True)\n"
     ]
    }
   ],
   "source": [
    "# Fill missing text values with placeholders\n",
    "df[\"name\"].fillna(\"Unknown Song\", inplace=True)\n",
    "df[\"artists\"].fillna(\"Unknown Artist\", inplace=True)\n",
    "df[\"country\"].fillna(\"Unknown Country\", inplace=True)\n",
    "df[\"album_name\"].fillna(\"Unknown Album\", inplace=True)\n",
    "df[\"album_release_date\"].fillna(\"Unknown Date\", inplace=True)"
   ]
  },
  {
   "cell_type": "code",
   "execution_count": 8,
   "id": "114e22f0-3c8d-46de-8475-ae6abf998479",
   "metadata": {},
   "outputs": [],
   "source": [
    "# Convert album release date to string (some might be numeric)\n",
    "df[\"album_release_date\"] = df[\"album_release_date\"].astype(str)"
   ]
  },
  {
   "cell_type": "code",
   "execution_count": 9,
   "id": "0b0424ee-3a34-4b66-9684-93f90c82082a",
   "metadata": {},
   "outputs": [
    {
     "name": "stderr",
     "output_type": "stream",
     "text": [
      "/var/folders/nc/ynm8w4053qg59qhr2zcdcpyh0000gn/T/ipykernel_93581/2168165544.py:5: FutureWarning: A value is trying to be set on a copy of a DataFrame or Series through chained assignment using an inplace method.\n",
      "The behavior will change in pandas 3.0. This inplace method will never work because the intermediate object on which we are setting values always behaves as a copy.\n",
      "\n",
      "For example, when doing 'df[col].method(value, inplace=True)', try using 'df.method({col: value}, inplace=True)' or df[col] = df[col].method(value) instead, to perform the operation inplace on the original object.\n",
      "\n",
      "\n",
      "  df[col].fillna(median_value, inplace=True)\n",
      "/var/folders/nc/ynm8w4053qg59qhr2zcdcpyh0000gn/T/ipykernel_93581/2168165544.py:5: FutureWarning: A value is trying to be set on a copy of a DataFrame or Series through chained assignment using an inplace method.\n",
      "The behavior will change in pandas 3.0. This inplace method will never work because the intermediate object on which we are setting values always behaves as a copy.\n",
      "\n",
      "For example, when doing 'df[col].method(value, inplace=True)', try using 'df.method({col: value}, inplace=True)' or df[col] = df[col].method(value) instead, to perform the operation inplace on the original object.\n",
      "\n",
      "\n",
      "  df[col].fillna(median_value, inplace=True)\n",
      "/var/folders/nc/ynm8w4053qg59qhr2zcdcpyh0000gn/T/ipykernel_93581/2168165544.py:5: FutureWarning: A value is trying to be set on a copy of a DataFrame or Series through chained assignment using an inplace method.\n",
      "The behavior will change in pandas 3.0. This inplace method will never work because the intermediate object on which we are setting values always behaves as a copy.\n",
      "\n",
      "For example, when doing 'df[col].method(value, inplace=True)', try using 'df.method({col: value}, inplace=True)' or df[col] = df[col].method(value) instead, to perform the operation inplace on the original object.\n",
      "\n",
      "\n",
      "  df[col].fillna(median_value, inplace=True)\n",
      "/var/folders/nc/ynm8w4053qg59qhr2zcdcpyh0000gn/T/ipykernel_93581/2168165544.py:5: FutureWarning: A value is trying to be set on a copy of a DataFrame or Series through chained assignment using an inplace method.\n",
      "The behavior will change in pandas 3.0. This inplace method will never work because the intermediate object on which we are setting values always behaves as a copy.\n",
      "\n",
      "For example, when doing 'df[col].method(value, inplace=True)', try using 'df.method({col: value}, inplace=True)' or df[col] = df[col].method(value) instead, to perform the operation inplace on the original object.\n",
      "\n",
      "\n",
      "  df[col].fillna(median_value, inplace=True)\n",
      "/var/folders/nc/ynm8w4053qg59qhr2zcdcpyh0000gn/T/ipykernel_93581/2168165544.py:5: FutureWarning: A value is trying to be set on a copy of a DataFrame or Series through chained assignment using an inplace method.\n",
      "The behavior will change in pandas 3.0. This inplace method will never work because the intermediate object on which we are setting values always behaves as a copy.\n",
      "\n",
      "For example, when doing 'df[col].method(value, inplace=True)', try using 'df.method({col: value}, inplace=True)' or df[col] = df[col].method(value) instead, to perform the operation inplace on the original object.\n",
      "\n",
      "\n",
      "  df[col].fillna(median_value, inplace=True)\n"
     ]
    }
   ],
   "source": [
    "# Fill missing numeric values with median\n",
    "numeric_cols = [\"daily_movement\", \"weekly_movement\", \"popularity\", \"tempo\", \"loudness\"]\n",
    "for col in numeric_cols:\n",
    "    median_value = df[col].median()\n",
    "    df[col].fillna(median_value, inplace=True)"
   ]
  },
  {
   "cell_type": "code",
   "execution_count": 10,
   "id": "918207d4-7d4f-488c-a6dd-cea9ccc98e73",
   "metadata": {},
   "outputs": [],
   "source": [
    "# Convert snapshot_date to datetime format\n",
    "df[\"snapshot_date\"] = pd.to_datetime(df[\"snapshot_date\"], errors=\"coerce\")"
   ]
  },
  {
   "cell_type": "code",
   "execution_count": 11,
   "id": "98530dd7-336f-4d26-93df-fa1b2bfd4027",
   "metadata": {},
   "outputs": [],
   "source": [
    "# Normalize text columns (lowercase, strip spaces)\n",
    "text_columns = [\"name\", \"artists\", \"country\", \"album_name\"]\n",
    "for col in text_columns:\n",
    "    df[col] = df[col].str.lower().str.strip()"
   ]
  },
  {
   "cell_type": "code",
   "execution_count": 12,
   "id": "9c8bfce8-1397-42fb-b0e3-c07f3b94f35d",
   "metadata": {},
   "outputs": [],
   "source": [
    "# Ensure is_explicit is boolean\n",
    "df[\"is_explicit\"] = df[\"is_explicit\"].astype(bool)"
   ]
  },
  {
   "cell_type": "code",
   "execution_count": 13,
   "id": "702c4391-7f41-4945-947c-103b3529ded0",
   "metadata": {},
   "outputs": [
    {
     "name": "stdout",
     "output_type": "stream",
     "text": [
      "\n",
      "Data Cleaning Completed! Cleaned dataset saved as: data/Top_spotify_songs_cleaned.csv\n"
     ]
    }
   ],
   "source": [
    "# Save the cleaned dataset\n",
    "cleaned_file_path = \"data/Top_spotify_songs_cleaned.csv\"\n",
    "df.to_csv(cleaned_file_path, index=False)\n",
    "\n",
    "print(\"\\nData Cleaning Completed! Cleaned dataset saved as:\", cleaned_file_path)"
   ]
  },
  {
   "cell_type": "code",
   "execution_count": 14,
   "id": "a088233f-838d-40d4-8cc5-7fb14f926ff9",
   "metadata": {},
   "outputs": [
    {
     "name": "stdout",
     "output_type": "stream",
     "text": [
      "\n",
      "Cleaned Dataset Info:\n",
      "<class 'pandas.core.frame.DataFrame'>\n",
      "RangeIndex: 1728382 entries, 0 to 1728381\n",
      "Data columns (total 25 columns):\n",
      " #   Column              Dtype         \n",
      "---  ------              -----         \n",
      " 0   spotify_id          object        \n",
      " 1   name                object        \n",
      " 2   artists             object        \n",
      " 3   daily_rank          int64         \n",
      " 4   daily_movement      int64         \n",
      " 5   weekly_movement     int64         \n",
      " 6   country             object        \n",
      " 7   snapshot_date       datetime64[ns]\n",
      " 8   popularity          int64         \n",
      " 9   is_explicit         bool          \n",
      " 10  duration_ms         int64         \n",
      " 11  album_name          object        \n",
      " 12  album_release_date  object        \n",
      " 13  danceability        float64       \n",
      " 14  energy              float64       \n",
      " 15  key                 int64         \n",
      " 16  loudness            float64       \n",
      " 17  mode                int64         \n",
      " 18  speechiness         float64       \n",
      " 19  acousticness        float64       \n",
      " 20  instrumentalness    float64       \n",
      " 21  liveness            float64       \n",
      " 22  valence             float64       \n",
      " 23  tempo               float64       \n",
      " 24  time_signature      int64         \n",
      "dtypes: bool(1), datetime64[ns](1), float64(9), int64(8), object(6)\n",
      "memory usage: 318.1+ MB\n"
     ]
    }
   ],
   "source": [
    "# Display the cleaned dataset's info\n",
    "print(\"\\nCleaned Dataset Info:\")\n",
    "df.info()"
   ]
  },
  {
   "cell_type": "code",
   "execution_count": 15,
   "id": "dfea31a0-3822-483e-a78f-ce293a0d5a79",
   "metadata": {},
   "outputs": [
    {
     "name": "stdout",
     "output_type": "stream",
     "text": [
      "\n",
      "Sample Cleaned Data:\n",
      "               spotify_id                name                artists  \\\n",
      "0  2plbrEY59IikOBgBGLjaoe    die with a smile  lady gaga, bruno mars   \n",
      "1  2CGNAOSuO1MEFCbBRgUzjd   luther (with sza)    kendrick lamar, sza   \n",
      "2  6AI3ezQ4o3HUoP6Dhudph3         not like us         kendrick lamar   \n",
      "3  4wJ5Qq0jBN4ajy7ouZIV1c                apt.       rosé, bruno mars   \n",
      "4  6dOtVTDdiauQNBQEDOtlAB  birds of a feather          billie eilish   \n",
      "\n",
      "   daily_rank  daily_movement  weekly_movement          country snapshot_date  \\\n",
      "0           1               1                0  unknown country    2025-02-17   \n",
      "1           2               1                4  unknown country    2025-02-17   \n",
      "2           3              -2                8  unknown country    2025-02-17   \n",
      "3           4               0               -2  unknown country    2025-02-17   \n",
      "4           5               1               -2  unknown country    2025-02-17   \n",
      "\n",
      "   popularity  is_explicit  ...  key loudness mode  speechiness  acousticness  \\\n",
      "0          98        False  ...    6   -7.777    0       0.0304        0.3080   \n",
      "1          90        False  ...    2   -7.546    1       0.1250        0.2510   \n",
      "2          92         True  ...    1   -7.001    1       0.0776        0.0107   \n",
      "3          89        False  ...    0   -4.477    0       0.2600        0.0283   \n",
      "4          96        False  ...    2  -10.171    1       0.0358        0.2000   \n",
      "\n",
      "   instrumentalness  liveness  valence    tempo  time_signature  \n",
      "0            0.0000     0.122    0.535  157.969               3  \n",
      "1            0.0000     0.248    0.576  138.008               4  \n",
      "2            0.0000     0.141    0.214  101.061               4  \n",
      "3            0.0000     0.355    0.939  149.027               4  \n",
      "4            0.0608     0.117    0.438  104.978               4  \n",
      "\n",
      "[5 rows x 25 columns]\n"
     ]
    }
   ],
   "source": [
    "# Show a sample of the cleaned data\n",
    "print(\"\\nSample Cleaned Data:\")\n",
    "print(df.head())"
   ]
  }
 ],
 "metadata": {
  "kernelspec": {
   "display_name": "Python 3 (ipykernel)",
   "language": "python",
   "name": "python3"
  },
  "language_info": {
   "codemirror_mode": {
    "name": "ipython",
    "version": 3
   },
   "file_extension": ".py",
   "mimetype": "text/x-python",
   "name": "python",
   "nbconvert_exporter": "python",
   "pygments_lexer": "ipython3",
   "version": "3.11.8"
  }
 },
 "nbformat": 4,
 "nbformat_minor": 5
}
